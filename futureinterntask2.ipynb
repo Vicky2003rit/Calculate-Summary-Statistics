{
  "nbformat": 4,
  "nbformat_minor": 0,
  "metadata": {
    "colab": {
      "provenance": []
    },
    "kernelspec": {
      "name": "python3",
      "display_name": "Python 3"
    },
    "language_info": {
      "name": "python"
    }
  },
  "cells": [
    {
      "cell_type": "code",
      "execution_count": 1,
      "metadata": {
        "id": "WTV8gc5_YC6I"
      },
      "outputs": [],
      "source": [
        "\n",
        "import pandas as pd"
      ]
    },
    {
      "cell_type": "code",
      "source": [
        "file_path = 'cleaned_test_titanic.csv'\n",
        "df = pd.read_csv(file_path)"
      ],
      "metadata": {
        "id": "nCAPQ9j_YRQc"
      },
      "execution_count": 2,
      "outputs": []
    },
    {
      "cell_type": "code",
      "source": [
        "numerical_columns = df.select_dtypes(include=['number']).columns\n",
        "categorical_columns = df.select_dtypes(include=['object', 'category']).columns"
      ],
      "metadata": {
        "id": "8NLPDgLXYu2Q"
      },
      "execution_count": 3,
      "outputs": []
    },
    {
      "cell_type": "code",
      "source": [
        "print(numerical_columns)\n",
        "print(categorical_columns)\n"
      ],
      "metadata": {
        "colab": {
          "base_uri": "https://localhost:8080/"
        },
        "id": "BQK48GzkY6qT",
        "outputId": "1ada82e7-3a40-44bb-9ce6-ba6217627cce"
      },
      "execution_count": 5,
      "outputs": [
        {
          "output_type": "stream",
          "name": "stdout",
          "text": [
            "Index(['Unnamed: 0', 'PassengerId', 'Pclass', 'Age', 'SibSp', 'Parch', 'Fare'], dtype='object')\n",
            "Index(['Name', 'Sex', 'Ticket', 'Embarked'], dtype='object')\n"
          ]
        }
      ]
    },
    {
      "cell_type": "markdown",
      "source": [
        "Summary dataset fo numerical column"
      ],
      "metadata": {
        "id": "M1FEwIdZZMCg"
      }
    },
    {
      "cell_type": "code",
      "source": [
        "print(\"\\nSummary Statistics for Categorical Columns:\")\n",
        "print(df[categorical_columns].describe())"
      ],
      "metadata": {
        "colab": {
          "base_uri": "https://localhost:8080/"
        },
        "id": "WqbM_G-UajDw",
        "outputId": "d7904a47-91ce-4c26-db75-5c1fcca5d8a0"
      },
      "execution_count": 7,
      "outputs": [
        {
          "output_type": "stream",
          "name": "stdout",
          "text": [
            "\n",
            "Summary Statistics for Categorical Columns:\n",
            "                    Name   Sex    Ticket Embarked\n",
            "count                376   376       376      376\n",
            "unique               376     2       333        3\n",
            "top     Kelly, Mr. James  male  CA. 2343        S\n",
            "freq                   1   239         4      245\n"
          ]
        }
      ]
    },
    {
      "cell_type": "code",
      "source": [
        "for col in numerical_columns:\n",
        "    print(f\"Column: {col}\")\n",
        "    print(f\"Mean: {df[col].mean() :}\")\n",
        "    print(f\"Median: {df[col].median():}\")\n",
        "    print(f\"Mode: {df[col].mode()}\")\n",
        "    print(\"-------------------------------------------------\")\n",
        "\n",
        "\n"
      ],
      "metadata": {
        "colab": {
          "base_uri": "https://localhost:8080/"
        },
        "id": "W2kHu3qQa-83",
        "outputId": "f79ece9b-939d-4e79-e651-f6f485fc4018"
      },
      "execution_count": 28,
      "outputs": [
        {
          "output_type": "stream",
          "name": "stdout",
          "text": [
            "Column: Unnamed: 0\n",
            "Mean: 208.97074468085106\n",
            "Median: 209.5\n",
            "Mode: 0        0\n",
            "1        1\n",
            "2        3\n",
            "3        4\n",
            "4        5\n",
            "      ... \n",
            "371    413\n",
            "372    414\n",
            "373    415\n",
            "374    416\n",
            "375    417\n",
            "Name: Unnamed: 0, Length: 376, dtype: int64\n",
            "-------------------------------------------------\n",
            "Column: PassengerId\n",
            "Mean: 1100.970744680851\n",
            "Median: 1101.5\n",
            "Mode: 0       892\n",
            "1       893\n",
            "2       895\n",
            "3       896\n",
            "4       897\n",
            "       ... \n",
            "371    1305\n",
            "372    1306\n",
            "373    1307\n",
            "374    1308\n",
            "375    1309\n",
            "Name: PassengerId, Length: 376, dtype: int64\n",
            "-------------------------------------------------\n",
            "Column: Pclass\n",
            "Mean: 2.3351063829787235\n",
            "Median: 3.0\n",
            "Mode: 0    3\n",
            "Name: Pclass, dtype: int64\n",
            "-------------------------------------------------\n",
            "Column: Age\n",
            "Mean: 28.267619680851062\n",
            "Median: 30.0\n",
            "Mode: 0    30.27259\n",
            "Name: Age, dtype: float64\n",
            "-------------------------------------------------\n",
            "Column: SibSp\n",
            "Mean: 0.43351063829787234\n",
            "Median: 0.0\n",
            "Mode: 0    0\n",
            "Name: SibSp, dtype: int64\n",
            "-------------------------------------------------\n",
            "Column: Parch\n",
            "Mean: 0.39361702127659576\n",
            "Median: 0.0\n",
            "Mode: 0    0\n",
            "Name: Parch, dtype: int64\n",
            "-------------------------------------------------\n",
            "Column: Fare\n",
            "Mean: 31.055928457446807\n",
            "Median: 13.8583\n",
            "Mode: 0    7.75\n",
            "Name: Fare, dtype: float64\n",
            "-------------------------------------------------\n"
          ]
        }
      ]
    },
    {
      "cell_type": "code",
      "source": [
        "file_path = 'cleaned_train_titanic.csv'\n",
        "df = pd.read_csv(file_path)"
      ],
      "metadata": {
        "id": "WwpLxdblhXJg"
      },
      "execution_count": 29,
      "outputs": []
    },
    {
      "cell_type": "code",
      "source": [
        "numerical_columns = df.select_dtypes(include=['number']).columns\n",
        "categorical_columns = df.select_dtypes(include=['object', 'category']).columns"
      ],
      "metadata": {
        "id": "soQBwD2zhcgP"
      },
      "execution_count": 30,
      "outputs": []
    },
    {
      "cell_type": "code",
      "source": [
        "for col in numerical_columns:\n",
        "    print(f\"Column: {col}\")\n",
        "    print(f\"Mean: {df[col].mean() :}\")\n",
        "    print(f\"Median: {df[col].median():}\")\n",
        "    print(f\"Mode: {df[col].mode()}\")\n",
        "    print(\"-------------------------------------------------\")"
      ],
      "metadata": {
        "colab": {
          "base_uri": "https://localhost:8080/"
        },
        "id": "Bajg0-0ahiwi",
        "outputId": "e9482213-c6e9-474b-e15a-691c80e2cd33"
      },
      "execution_count": 31,
      "outputs": [
        {
          "output_type": "stream",
          "name": "stdout",
          "text": [
            "Column: Unnamed: 0\n",
            "Mean: 446.369696969697\n",
            "Median: 444.0\n",
            "Mode: 0        0\n",
            "1        1\n",
            "2        2\n",
            "3        3\n",
            "4        4\n",
            "      ... \n",
            "820    886\n",
            "821    887\n",
            "822    888\n",
            "823    889\n",
            "824    890\n",
            "Name: Unnamed: 0, Length: 825, dtype: int64\n",
            "-------------------------------------------------\n",
            "Column: PassengerId\n",
            "Mean: 447.369696969697\n",
            "Median: 445.0\n",
            "Mode: 0        1\n",
            "1        2\n",
            "2        3\n",
            "3        4\n",
            "4        5\n",
            "      ... \n",
            "820    887\n",
            "821    888\n",
            "822    889\n",
            "823    890\n",
            "824    891\n",
            "Name: PassengerId, Length: 825, dtype: int64\n",
            "-------------------------------------------------\n",
            "Column: Survived\n",
            "Mean: 0.3806060606060606\n",
            "Median: 0.0\n",
            "Mode: 0    0\n",
            "Name: Survived, dtype: int64\n",
            "-------------------------------------------------\n",
            "Column: Pclass\n",
            "Mean: 2.341818181818182\n",
            "Median: 3.0\n",
            "Mode: 0    3\n",
            "Name: Pclass, dtype: int64\n",
            "-------------------------------------------------\n",
            "Column: Age\n",
            "Mean: 28.879689483065953\n",
            "Median: 29.69911764705882\n",
            "Mode: 0    29.699118\n",
            "Name: Age, dtype: float64\n",
            "-------------------------------------------------\n",
            "Column: SibSp\n",
            "Mean: 0.5078787878787879\n",
            "Median: 0.0\n",
            "Mode: 0    0\n",
            "Name: SibSp, dtype: int64\n",
            "-------------------------------------------------\n",
            "Column: Parch\n",
            "Mean: 0.3575757575757576\n",
            "Median: 0.0\n",
            "Mode: 0    0\n",
            "Name: Parch, dtype: int64\n",
            "-------------------------------------------------\n",
            "Column: Fare\n",
            "Mean: 31.483615393939395\n",
            "Median: 13.4167\n",
            "Mode: 0     8.05\n",
            "1    13.00\n",
            "Name: Fare, dtype: float64\n",
            "-------------------------------------------------\n"
          ]
        }
      ]
    },
    {
      "cell_type": "code",
      "source": [
        "print(\"\\nSummary Statistics for Categorical Columns:\")\n",
        "print(df[categorical_columns].describe())"
      ],
      "metadata": {
        "colab": {
          "base_uri": "https://localhost:8080/"
        },
        "id": "8a8o6fvFhl6H",
        "outputId": "b350beaf-9bc3-4808-fa43-320b97b7b535"
      },
      "execution_count": 32,
      "outputs": [
        {
          "output_type": "stream",
          "name": "stdout",
          "text": [
            "\n",
            "Summary Statistics for Categorical Columns:\n",
            "                           Name   Sex    Ticket Embarked\n",
            "count                       825   825       825      824\n",
            "unique                      825     2       647        3\n",
            "top     Braund, Mr. Owen Harris  male  CA. 2343        S\n",
            "freq                          1   531         7      599\n"
          ]
        }
      ]
    },
    {
      "cell_type": "code",
      "source": [
        "file_path = 'gender_submission (1).csv'\n",
        "df = pd.read_csv(file_path)"
      ],
      "metadata": {
        "id": "IxQ3rg9Gh2NN"
      },
      "execution_count": 34,
      "outputs": []
    },
    {
      "cell_type": "code",
      "source": [
        "numerical_columns = df.select_dtypes(include=['number']).columns\n",
        "categorical_columns = df.select_dtypes(include=['object', 'category']).columns"
      ],
      "metadata": {
        "id": "aq_a0_J_iCDs"
      },
      "execution_count": 35,
      "outputs": []
    },
    {
      "cell_type": "code",
      "source": [],
      "metadata": {
        "id": "tWRqfeQFiM6I"
      },
      "execution_count": null,
      "outputs": []
    },
    {
      "cell_type": "code",
      "source": [
        "print(numerical_columns)\n",
        "print(categorical_columns)"
      ],
      "metadata": {
        "colab": {
          "base_uri": "https://localhost:8080/"
        },
        "id": "pUu7fI2hiHC7",
        "outputId": "1db8d75d-0895-4a13-98f5-27c7eddd29a1"
      },
      "execution_count": 36,
      "outputs": [
        {
          "output_type": "stream",
          "name": "stdout",
          "text": [
            "Index(['PassengerId', 'Survived'], dtype='object')\n",
            "Index([], dtype='object')\n"
          ]
        }
      ]
    },
    {
      "cell_type": "code",
      "source": [
        "for col in numerical_columns:\n",
        "    print(f\"Column: {col}\")\n",
        "    print(f\"Mean: {df[col].mean() :}\")\n",
        "    print(f\"Median: {df[col].median():}\")\n",
        "    print(f\"Mode: {df[col].mode()}\")\n",
        "    print(\"-------------------------------------------------\")"
      ],
      "metadata": {
        "colab": {
          "base_uri": "https://localhost:8080/"
        },
        "id": "xy7uEAP2iRe6",
        "outputId": "80dc1f7d-7c66-4263-c4e3-16e64c7e6b42"
      },
      "execution_count": 37,
      "outputs": [
        {
          "output_type": "stream",
          "name": "stdout",
          "text": [
            "Column: PassengerId\n",
            "Mean: 1100.5\n",
            "Median: 1100.5\n",
            "Mode: 0       892\n",
            "1       893\n",
            "2       894\n",
            "3       895\n",
            "4       896\n",
            "       ... \n",
            "413    1305\n",
            "414    1306\n",
            "415    1307\n",
            "416    1308\n",
            "417    1309\n",
            "Name: PassengerId, Length: 418, dtype: int64\n",
            "-------------------------------------------------\n",
            "Column: Survived\n",
            "Mean: 0.36363636363636365\n",
            "Median: 0.0\n",
            "Mode: 0    0\n",
            "Name: Survived, dtype: int64\n",
            "-------------------------------------------------\n"
          ]
        }
      ]
    },
    {
      "cell_type": "code",
      "source": [],
      "metadata": {
        "id": "dP2cFWG5iVtx"
      },
      "execution_count": 38,
      "outputs": []
    }
  ]
}